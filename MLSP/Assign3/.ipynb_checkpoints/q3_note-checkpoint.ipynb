{
 "cells": [
  {
   "cell_type": "code",
   "execution_count": 2,
   "metadata": {
    "collapsed": true
   },
   "outputs": [],
   "source": [
    "from scipy.io import wavfile\n",
    "import numpy as np\n",
    "import matplotlib.pyplot as plt"
   ]
  },
  {
   "cell_type": "code",
   "execution_count": 3,
   "metadata": {
    "collapsed": true
   },
   "outputs": [],
   "source": [
    "def stft(x, window, step):\n",
    "    l = len(x)  # input signal length\n",
    "    n = len(window)  # window length\n",
    "    m = int(np.ceil(float(l - n + step) / step))\n",
    "\n",
    "    new_x = np.zeros(n + ((m - 1) * step))\n",
    "    new_x[:l] = x\n",
    "\n",
    "    X = np.zeros([m, n], dtype=complex)\n",
    "    for m in xrange(m):\n",
    "        start = step * m\n",
    "        X[m, :] = np.fft.fft(new_x[start: start + n] * window)\n",
    "    return X"
   ]
  },
  {
   "cell_type": "code",
   "execution_count": 4,
   "metadata": {
    "collapsed": true
   },
   "outputs": [],
   "source": [
    "def istft(X, win, step):\n",
    "    M, N = X.shape\n",
    "    l = (M - 1) * step + N\n",
    "    x = np.zeros(l, dtype=float)\n",
    "    wsum = np.zeros(l, dtype=float)\n",
    "    for m in xrange(M):\n",
    "        start = step * m\n",
    "        x[start: start + N] = x[start: start + N] + np.fft.ifft(X[m, :]).real * win\n",
    "        wsum[start: start + N] += win ** 2\n",
    "    pos = (wsum != 0)\n",
    "    x[pos] /= wsum[pos]\n",
    "    return x"
   ]
  },
  {
   "cell_type": "code",
   "execution_count": 5,
   "metadata": {
    "collapsed": true
   },
   "outputs": [],
   "source": [
    "def get_eigen_vectors(A, count=8):\n",
    "    eigen_vectors = []\n",
    "    X = A\n",
    "    for c in range(count):\n",
    "        l, v = eigen(X)\n",
    "        eigen_vectors.append(v)\n",
    "        X = X - l * np.dot(v, v.T)\n",
    "    return np.array(eigen_vectors)"
   ]
  },
  {
   "cell_type": "code",
   "execution_count": 6,
   "metadata": {
    "collapsed": true
   },
   "outputs": [],
   "source": [
    "def eigen(A, n=100):\n",
    "    eest = np.zeros((n, 1))\n",
    "    v = np.random.random((A.shape[1], 1))\n",
    "    for i in range(n):\n",
    "        x = np.dot(A, v)\n",
    "        e = np.dot(x.T, v) / np.dot(v.T, v)\n",
    "        v = x / np.linalg.norm(x, ord='fro')\n",
    "        eest[i] = e\n",
    "    return eest[n - 1][0], v"
   ]
  },
  {
   "cell_type": "code",
   "execution_count": 7,
   "metadata": {
    "collapsed": true
   },
   "outputs": [],
   "source": [
    "def get_W_matrix(spectrogram):\n",
    "    S = np.abs(spectrogram)\n",
    "    S = S.T\n",
    "    S = S[:513]\n",
    "    S_ST = np.dot(S, S.T)\n",
    "    W = get_eigen_vectors(S_ST, count=30)\n",
    "    return W.T[0]"
   ]
  },
  {
   "cell_type": "code",
   "execution_count": 8,
   "metadata": {
    "collapsed": false
   },
   "outputs": [],
   "source": [
    "speech_sampling_rate, speech_data = wavfile.read(\"trs.wav\")\n",
    "noise_sampling_rate, noise_data = wavfile.read(\"trn.wav\")\n",
    "x_sampling_rate, x_data = wavfile.read(\"x_nmf.wav\")"
   ]
  },
  {
   "cell_type": "code",
   "execution_count": 10,
   "metadata": {
    "collapsed": false
   },
   "outputs": [],
   "source": [
    "fft_size = 1024\n",
    "window = np.hanning(fft_size)\n",
    "step = fft_size / 2"
   ]
  },
  {
   "cell_type": "code",
   "execution_count": 11,
   "metadata": {
    "collapsed": true
   },
   "outputs": [],
   "source": [
    "speech_spectrogram = stft(speech_data, window, step)\n",
    "noise_spectrogram = stft(noise_data, window, step)\n",
    "x_spectrogram = stft(x_data, window, step)"
   ]
  },
  {
   "cell_type": "code",
   "execution_count": 12,
   "metadata": {
    "collapsed": true
   },
   "outputs": [],
   "source": [
    "W_S = get_W_matrix(speech_spectrogram)"
   ]
  },
  {
   "cell_type": "code",
   "execution_count": 13,
   "metadata": {
    "collapsed": true
   },
   "outputs": [],
   "source": [
    "W_N = get_W_matrix(noise_spectrogram)"
   ]
  },
  {
   "cell_type": "code",
   "execution_count": 14,
   "metadata": {
    "collapsed": true
   },
   "outputs": [],
   "source": [
    "X = np.abs(x_spectrogram)\n",
    "X = X.T\n",
    "X = X[:513]"
   ]
  },
  {
   "cell_type": "code",
   "execution_count": 15,
   "metadata": {
    "collapsed": true
   },
   "outputs": [],
   "source": [
    "W = np.hstack((W_S, W_N))"
   ]
  },
  {
   "cell_type": "code",
   "execution_count": 16,
   "metadata": {
    "collapsed": true
   },
   "outputs": [],
   "source": [
    "H = np.random.random((60, 129))"
   ]
  },
  {
   "cell_type": "code",
   "execution_count": 17,
   "metadata": {
    "collapsed": true
   },
   "outputs": [],
   "source": [
    "for _ in range(100):\n",
    "    J = np.dot(W, np.dot(H, H.T)) - np.dot(X, H.T)\n",
    "    H = np.multiply(H, np.dot(W.T, X) / np.dot(np.dot(W.T, W), H))"
   ]
  },
  {
   "cell_type": "code",
   "execution_count": null,
   "metadata": {
    "collapsed": true
   },
   "outputs": [],
   "source": [
    "H"
   ]
  }
 ],
 "metadata": {
  "kernelspec": {
   "display_name": "Python [default]",
   "language": "python",
   "name": "python2"
  },
  "language_info": {
   "codemirror_mode": {
    "name": "ipython",
    "version": 2
   },
   "file_extension": ".py",
   "mimetype": "text/x-python",
   "name": "python",
   "nbconvert_exporter": "python",
   "pygments_lexer": "ipython2",
   "version": "2.7.13"
  }
 },
 "nbformat": 4,
 "nbformat_minor": 0
}
