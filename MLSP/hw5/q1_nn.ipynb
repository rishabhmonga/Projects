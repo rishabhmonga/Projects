{
 "cells": [
  {
   "cell_type": "code",
   "execution_count": 12,
   "metadata": {
    "collapsed": true
   },
   "outputs": [],
   "source": [
    "%matplotlib inline"
   ]
  },
  {
   "cell_type": "code",
   "execution_count": 13,
   "metadata": {
    "collapsed": true
   },
   "outputs": [],
   "source": [
    "from __future__ import division\n",
    "from scipy.io import wavfile\n",
    "import stft_try as stft_try\n",
    "import numpy as np\n",
    "import matplotlib.pyplot as plt\n",
    "import math"
   ]
  },
  {
   "cell_type": "code",
   "execution_count": 14,
   "metadata": {
    "collapsed": true
   },
   "outputs": [],
   "source": [
    "def ideal_binary_mask(mat, speech, noise):\n",
    "    mask = np.zeros(mat.shape)\n",
    "    for i in range(len(mat)):\n",
    "        for j in range(len(mat[0])):\n",
    "            if speech[i][j] > noise[i][j]:\n",
    "                mask[i][j] = 1\n",
    "    return mask"
   ]
  },
  {
   "cell_type": "code",
   "execution_count": 15,
   "metadata": {
    "collapsed": true
   },
   "outputs": [],
   "source": [
    "def plot_decision_boundary(pred_func):\n",
    "    x_min, x_max = X[:, 0].min() - .5, X[:, 0].max() + .5\n",
    "    y_min, y_max = X[:, 1].min() - .5, X[:, 1].max() + .5\n",
    "    h = 0.01\n",
    "    xx, yy = np.meshgrid(np.arange(x_min, x_max, h), np.arange(y_min, y_max, h))\n",
    "    Z = pred_func(np.c_[xx.ravel(), yy.ravel()])\n",
    "    Z = Z.reshape(xx.shape)\n",
    "\n",
    "    plt.contourf(xx, yy, Z)\n",
    "    plt.scatter(X[:, 0], X[:, 1])\n",
    "\n",
    "def get_model_loss(model):\n",
    "    W1, b1, W2, b2 = model['W1'], model['b1'], model['W2'], model['b2']\n",
    "    z1 = X.dot(W1) + b1\n",
    "    a1 = np.tanh(z1)\n",
    "    z2 = a1.dot(W2) + b2\n",
    "    exp_scores = np.exp(z2)\n",
    "    probs = exp_scores / np.sum(exp_scores, axis=1, keepdims=True)\n",
    "    correct_logprobs = -np.log(probs[range(num_examples), y])\n",
    "    data_loss = np.sum(correct_logprobs)\n",
    "    data_loss += reg_lambda / 2 * (np.sum(np.square(W1)) + np.sum(np.square(W2)))\n",
    "    return 1. / num_examples * data_loss\n",
    "\n",
    "\n",
    "def predict(model, x):\n",
    "    W1, b1, W2, b2 = model['W1'], model['b1'], model['W2'], model['b2']\n",
    "    z1 = x.dot(W1) + b1\n",
    "    a1 = np.tanh(z1)\n",
    "    z2 = a1.dot(W2) + b2\n",
    "    exp_scores = np.exp(z2)\n",
    "    probs = exp_scores / np.sum(exp_scores, axis=1, keepdims=True)\n",
    "    return np.argmax(probs, axis=1)\n",
    "\n",
    "\n",
    "def generate_neural_net(hidden_dim, iterations=20000, print_loss=False):\n",
    "    np.random.seed(0)\n",
    "    W1 = np.random.randn(nn_input_dim, hidden_dim) / np.sqrt(nn_input_dim)\n",
    "    b1 = np.zeros((1, hidden_dim))\n",
    "    W2 = np.random.randn(hidden_dim, nn_output_dim) / np.sqrt(hidden_dim)\n",
    "    b2 = np.zeros((1, nn_output_dim))\n",
    "\n",
    "    model = {}\n",
    "    losses = []\n",
    "\n",
    "    for i in range(0, iterations):\n",
    "\n",
    "        z1 = X.dot(W1) + b1\n",
    "        a1 = np.tanh(z1)\n",
    "        z2 = a1.dot(W2) + b2\n",
    "        exp_scores = np.exp(z2)\n",
    "        probs = exp_scores / np.sum(exp_scores, axis=1, keepdims=True)\n",
    "\n",
    "        # backpropagation\n",
    "        delta3 = probs\n",
    "        delta3[range(num_examples), y] -= 1\n",
    "        dW2 = (a1.T).dot(delta3)\n",
    "        db2 = np.sum(delta3, axis=0, keepdims=True)\n",
    "        delta2 = delta3.dot(W2.T) * (1 - np.power(a1, 2))\n",
    "        dW1 = np.dot(X.T, delta2)\n",
    "        db1 = np.sum(delta2, axis=0)\n",
    "\n",
    "        dW2 += reg_lambda * W2\n",
    "        dW1 += reg_lambda * W1\n",
    "\n",
    "        W1 += -eta * dW1\n",
    "        b1 += -eta * db1\n",
    "        W2 += -eta * dW2\n",
    "        b2 += -eta * db2\n",
    "\n",
    "        model = {'W1': W1, 'b1': b1, 'W2': W2, 'b2': b2}\n",
    "\n",
    "        if print_loss and i % 1000 == 0:\n",
    "            loss = get_model_loss(model)\n",
    "            print(\"Loss after iteration: \", i, ' : ', loss)\n",
    "            losses.append(loss)\n",
    "        elif not print_loss:\n",
    "            print(\"Loss : \", get_model_loss(model))\n",
    "    # plt.plot(losses)\n",
    "    # plt.show()\n",
    "    return model"
   ]
  },
  {
   "cell_type": "code",
   "execution_count": 16,
   "metadata": {},
   "outputs": [
    {
     "name": "stdout",
     "output_type": "stream",
     "text": [
      "(456707L,)\n"
     ]
    }
   ],
   "source": [
    "s_sample, s = wavfile.read('data/trs.wav')\n",
    "n_sample, n = wavfile.read('data/trn.wav')\n",
    "\n",
    "x = s + n\n",
    "print(x.shape)"
   ]
  },
  {
   "cell_type": "code",
   "execution_count": 17,
   "metadata": {
    "collapsed": true
   },
   "outputs": [],
   "source": [
    "frame_size = 1024\n",
    "hop_size = 512\n",
    "window = np.hanning(frame_size)\n",
    "\n",
    "s_spec = stft2(s, frame_size, hop_size, frame_size, window)[:513]\n",
    "n_spec = stft2(n, frame_size, hop_size, frame_size, window)[:513]\n",
    "x_spec = stft2(x, frame_size, hop_size, frame_size, window)[:513]\n",
    "\n",
    "# s_spec = stft2(s)[:513]\n",
    "# n_spec = stft2(n)[:513]\n",
    "# x_spec = stft2(x)[:513]"
   ]
  },
  {
   "cell_type": "code",
   "execution_count": 18,
   "metadata": {
    "collapsed": true
   },
   "outputs": [],
   "source": [
    "ib_mask = ideal_binary_mask(x_spec, s_spec, n_spec)"
   ]
  },
  {
   "cell_type": "code",
   "execution_count": 19,
   "metadata": {
    "collapsed": true
   },
   "outputs": [],
   "source": [
    "# X = ib_mask.T\n",
    "X = x_spec.real.T"
   ]
  },
  {
   "cell_type": "code",
   "execution_count": 20,
   "metadata": {
    "collapsed": true
   },
   "outputs": [],
   "source": [
    "y = np.array([0] * 171 + [1] * 342)"
   ]
  },
  {
   "cell_type": "code",
   "execution_count": 21,
   "metadata": {
    "collapsed": true
   },
   "outputs": [],
   "source": [
    "num_examples = len(X[0])\n",
    "nn_input_dim = 513\n",
    "nn_output_dim = 513\n",
    "\n",
    "eta = 0.0001\n",
    "reg_lambda = 0.0001"
   ]
  },
  {
   "cell_type": "code",
   "execution_count": 31,
   "metadata": {},
   "outputs": [
    {
     "name": "stdout",
     "output_type": "stream",
     "text": [
      "('Loss after iteration: ', 0, ' : ', 6.7148900545607431)\n",
      "('Loss after iteration: ', 1000, ' : ', 1.1128234352723285)\n",
      "('Loss after iteration: ', 2000, ' : ', 1.1072493934507872)\n",
      "('Loss after iteration: ', 3000, ' : ', 1.106308583873215)\n",
      "('Loss after iteration: ', 4000, ' : ', 1.106636145399148)\n",
      "('Loss after iteration: ', 5000, ' : ', 1.1068478707297758)\n",
      "('Loss after iteration: ', 6000, ' : ', 1.1114357050927393)\n",
      "('Loss after iteration: ', 7000, ' : ', 1.1115830671925702)\n",
      "('Loss after iteration: ', 8000, ' : ', 1.1093712782067169)\n",
      "('Loss after iteration: ', 9000, ' : ', 1.1093704905688562)\n"
     ]
    }
   ],
   "source": [
    "model = generate_neural_net(50, iterations=10000, print_loss=True)"
   ]
  },
  {
   "cell_type": "code",
   "execution_count": 46,
   "metadata": {},
   "outputs": [],
   "source": [
    "tex_sample, tex = wavfile.read('data/tex.wav')\n",
    "tes_sample, tes = wavfile.read('data/tes.wav')"
   ]
  },
  {
   "cell_type": "code",
   "execution_count": 47,
   "metadata": {
    "collapsed": true
   },
   "outputs": [],
   "source": [
    "tex_spec = stft2(tex, frame_size, hop_size, frame_size, window)[:513]\n",
    "tes_spec = stft2(tes, frame_size, hop_size, frame_size, window)[:513]"
   ]
  },
  {
   "cell_type": "code",
   "execution_count": 48,
   "metadata": {},
   "outputs": [],
   "source": [
    "m_test = predict(model, tex_spec.real.T)"
   ]
  },
  {
   "cell_type": "code",
   "execution_count": 49,
   "metadata": {
    "collapsed": true
   },
   "outputs": [],
   "source": [
    "sig_test = np.multiply(tex_spec, m_test)"
   ]
  },
  {
   "cell_type": "code",
   "execution_count": 50,
   "metadata": {},
   "outputs": [],
   "source": [
    "recov_test = istft2(sig_test, hop_size, frame_size)"
   ]
  },
  {
   "cell_type": "code",
   "execution_count": 51,
   "metadata": {
    "collapsed": true
   },
   "outputs": [],
   "source": [
    "wavfile.write('q1_nn_out.wav', s_sample, recov_test)"
   ]
  },
  {
   "cell_type": "code",
   "execution_count": 38,
   "metadata": {
    "collapsed": true
   },
   "outputs": [],
   "source": [
    "def get_snr(X, X_recovered):\n",
    "    numerator = np.sum(np.square(X))\n",
    "    denominator = np.sum(np.square(X - X_recovered))\n",
    "    print \"numerator : \", numerator\n",
    "    print \"denominator : \", denominator\n",
    "    return 10 * math.log10(numerator / denominator)"
   ]
  },
  {
   "cell_type": "code",
   "execution_count": 44,
   "metadata": {},
   "outputs": [
    {
     "name": "stdout",
     "output_type": "stream",
     "text": [
      "numerator :  (-3.68347e+11+6.74622e+11j)\n",
      "denominator :  (-115107160270+176244415765j)\n"
     ]
    },
    {
     "name": "stderr",
     "output_type": "stream",
     "text": [
      "C:\\Users\\risha\\Anaconda3\\envs\\python2\\lib\\site-packages\\ipykernel_launcher.py:6: ComplexWarning: Casting complex values to real discards the imaginary part\n",
      "  \n"
     ]
    },
    {
     "data": {
      "text/plain": [
       "5.611093308953197"
      ]
     },
     "execution_count": 44,
     "metadata": {},
     "output_type": "execute_result"
    }
   ],
   "source": [
    "get_snr(tes_spec, sig_test)"
   ]
  },
  {
   "cell_type": "code",
   "execution_count": null,
   "metadata": {
    "collapsed": true
   },
   "outputs": [],
   "source": []
  }
 ],
 "metadata": {
  "kernelspec": {
   "display_name": "Python (python2)",
   "language": "python",
   "name": "python2"
  },
  "language_info": {
   "codemirror_mode": {
    "name": "ipython",
    "version": 2
   },
   "file_extension": ".py",
   "mimetype": "text/x-python",
   "name": "python",
   "nbconvert_exporter": "python",
   "pygments_lexer": "ipython2",
   "version": "2.7.13"
  }
 },
 "nbformat": 4,
 "nbformat_minor": 2
}
