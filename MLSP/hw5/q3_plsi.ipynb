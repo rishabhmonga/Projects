{
 "cells": [
  {
   "cell_type": "code",
   "execution_count": 1,
   "metadata": {
    "collapsed": true
   },
   "outputs": [],
   "source": [
    "%matplotlib inline"
   ]
  },
  {
   "cell_type": "code",
   "execution_count": 2,
   "metadata": {
    "collapsed": true
   },
   "outputs": [],
   "source": [
    "from __future__ import division\n",
    "from scipy.io import wavfile\n",
    "import stft_try as stft_try\n",
    "import numpy as np\n",
    "import matplotlib.pyplot as plt\n",
    "import math"
   ]
  },
  {
   "cell_type": "code",
   "execution_count": 3,
   "metadata": {},
   "outputs": [
    {
     "name": "stdout",
     "output_type": "stream",
     "text": [
      "(456707L,)\n"
     ]
    }
   ],
   "source": [
    "s_sample, s = wavfile.read('data/trs.wav')\n",
    "n_sample, n = wavfile.read('data/trn.wav')\n",
    "\n",
    "x = s + n\n",
    "print(x.shape)"
   ]
  },
  {
   "cell_type": "code",
   "execution_count": 4,
   "metadata": {
    "collapsed": true
   },
   "outputs": [],
   "source": [
    "frame_size = 1024\n",
    "hop_size = 512\n",
    "window = np.hanning(frame_size)\n",
    "\n",
    "s_spec = stft2(s, frame_size, hop_size, frame_size, window)[:513]\n",
    "n_spec = stft2(n, frame_size, hop_size, frame_size, window)[:513]\n",
    "x_spec = stft2(x, frame_size, hop_size, frame_size, window)[:513]\n",
    "# s_spec = stft2(s)[:513]\n",
    "# n_spec = stft2(n)[:513]\n",
    "# x_spec = stft2(x)[:513]"
   ]
  },
  {
   "cell_type": "code",
   "execution_count": 5,
   "metadata": {
    "collapsed": true
   },
   "outputs": [],
   "source": [
    "def plsi(X, n=5000):\n",
    "    B = np.random.random((X.shape[0], 30))\n",
    "    theta = np.random.random((30, X.shape[1]))\n",
    "    for _ in xrange(n):\n",
    "        b_theta = np.dot(B, theta)\n",
    "        B = np.multiply(B, np.dot(np.divide(X, b_theta), theta.T))\n",
    "        one_v_v = np.ones((B.shape[0], B.shape[0]))\n",
    "        B = np.divide(B, (np.dot(one_v_v, B)))\n",
    "        b_theta = np.dot(B, theta)\n",
    "        theta = np.multiply(theta, np.dot(B.T, np.divide(X, b_theta)))\n",
    "        one_k_k = np.ones((theta.shape[0], theta.shape[0]))\n",
    "        theta = np.divide(theta, (np.dot(one_k_k, theta)))\n",
    "    return B, theta"
   ]
  },
  {
   "cell_type": "code",
   "execution_count": 6,
   "metadata": {
    "collapsed": true
   },
   "outputs": [],
   "source": [
    "B_s, theta_s = plsi(s_spec.real)"
   ]
  },
  {
   "cell_type": "code",
   "execution_count": 7,
   "metadata": {
    "collapsed": true
   },
   "outputs": [],
   "source": [
    "B_n, theta_n = plsi(n_spec.real)"
   ]
  },
  {
   "cell_type": "code",
   "execution_count": 8,
   "metadata": {},
   "outputs": [
    {
     "data": {
      "text/plain": [
       "((513L, 60L), (60L, 893L))"
      ]
     },
     "execution_count": 8,
     "metadata": {},
     "output_type": "execute_result"
    }
   ],
   "source": [
    "B = np.hstack((B_s, B_n))\n",
    "theta = np.vstack((theta_s, theta_n))\n",
    "B.shape, theta.shape"
   ]
  },
  {
   "cell_type": "code",
   "execution_count": 9,
   "metadata": {},
   "outputs": [
    {
     "data": {
      "text/plain": [
       "(513L, 893L)"
      ]
     },
     "execution_count": 9,
     "metadata": {},
     "output_type": "execute_result"
    }
   ],
   "source": [
    "X = x_spec\n",
    "Y = np.abs(X)\n",
    "# Y = Y.T\n",
    "Y.shape"
   ]
  },
  {
   "cell_type": "code",
   "execution_count": 10,
   "metadata": {
    "collapsed": true
   },
   "outputs": [],
   "source": [
    "def update_theta(X, B, n=2000):\n",
    "    theta = np.random.random((60, X.shape[1]))\n",
    "    for _ in xrange(n):\n",
    "        b_theta = np.dot(B, theta)\n",
    "        theta = np.multiply(theta, np.dot(B.T, np.divide(X, b_theta)))\n",
    "        one_k_k = np.ones((theta.shape[0], theta.shape[0]))\n",
    "        theta = np.divide(theta, (np.dot(one_k_k, theta)))\n",
    "    return theta"
   ]
  },
  {
   "cell_type": "code",
   "execution_count": 11,
   "metadata": {
    "collapsed": true
   },
   "outputs": [],
   "source": [
    "tex_sample, tex = wavfile.read('data/tex.wav')\n",
    "tes_sample, tes = wavfile.read('data/tes.wav')"
   ]
  },
  {
   "cell_type": "code",
   "execution_count": 12,
   "metadata": {},
   "outputs": [],
   "source": [
    "tex_spec = stft2(tex, frame_size, hop_size, frame_size, window)[:513]\n",
    "# tes_spec = stft2(tes, frame_size, hop_size, frame_size, window)[:513]\n",
    "tes_spec = stft2(tes)[:513]"
   ]
  },
  {
   "cell_type": "code",
   "execution_count": 13,
   "metadata": {},
   "outputs": [
    {
     "data": {
      "text/plain": [
       "array([[ -1.04608567e+001,  -5.55381729e-032,   6.45988865e+000, ...,\n",
       "          2.96029480e+001,   0.00000000e+000,  -1.72246483e-003],\n",
       "       [  8.62529082e+000,   2.88869040e+002,   1.72262378e-119, ...,\n",
       "          4.99448549e+001,   3.99939306e+001,  -2.28457708e+001],\n",
       "       [ -1.37864693e+001,  -1.68300983e+001,   8.53084144e+000, ...,\n",
       "         -1.86798532e+002,   3.08335218e+001,   2.07103558e+002],\n",
       "       ..., \n",
       "       [ -0.00000000e+000,  -0.00000000e+000,  -0.00000000e+000, ...,\n",
       "         -0.00000000e+000,   0.00000000e+000,   0.00000000e+000],\n",
       "       [  0.00000000e+000,   0.00000000e+000,   0.00000000e+000, ...,\n",
       "          0.00000000e+000,  -0.00000000e+000,  -0.00000000e+000],\n",
       "       [  0.00000000e+000,  -1.26171788e-004,  -2.80186849e+000, ...,\n",
       "         -0.00000000e+000,   0.00000000e+000,   0.00000000e+000]])"
      ]
     },
     "execution_count": 13,
     "metadata": {},
     "output_type": "execute_result"
    }
   ],
   "source": [
    "theta_tex = update_theta(tex_spec.real, B)\n",
    "theta_tex"
   ]
  },
  {
   "cell_type": "code",
   "execution_count": 14,
   "metadata": {
    "collapsed": true
   },
   "outputs": [],
   "source": [
    "numerator = np.dot(B_s, theta_tex[:30])"
   ]
  },
  {
   "cell_type": "code",
   "execution_count": 15,
   "metadata": {
    "collapsed": true
   },
   "outputs": [],
   "source": [
    "denominator = np.dot(B, theta_tex)"
   ]
  },
  {
   "cell_type": "code",
   "execution_count": 16,
   "metadata": {},
   "outputs": [
    {
     "data": {
      "text/plain": [
       "(513L, 161L)"
      ]
     },
     "execution_count": 16,
     "metadata": {},
     "output_type": "execute_result"
    }
   ],
   "source": [
    "M_bar = numerator/denominator\n",
    "M_bar.shape"
   ]
  },
  {
   "cell_type": "code",
   "execution_count": 17,
   "metadata": {
    "collapsed": true
   },
   "outputs": [],
   "source": [
    "tex_sig = np.multiply(tex_spec, M_bar)"
   ]
  },
  {
   "cell_type": "code",
   "execution_count": 18,
   "metadata": {
    "collapsed": true
   },
   "outputs": [],
   "source": [
    "Y = tex_spec.real\n",
    "Y = np.abs(Y)"
   ]
  },
  {
   "cell_type": "code",
   "execution_count": 19,
   "metadata": {
    "collapsed": true
   },
   "outputs": [],
   "source": [
    "tex_missing = tex_spec/Y"
   ]
  },
  {
   "cell_type": "code",
   "execution_count": 20,
   "metadata": {
    "collapsed": true
   },
   "outputs": [],
   "source": [
    "tex_sig += tex_missing"
   ]
  },
  {
   "cell_type": "code",
   "execution_count": 21,
   "metadata": {},
   "outputs": [],
   "source": [
    "tex_recov = istft2(tex_sig)\n",
    "# tex_recov = istft2(tes_spec)"
   ]
  },
  {
   "cell_type": "code",
   "execution_count": 22,
   "metadata": {
    "collapsed": true
   },
   "outputs": [],
   "source": [
    "wavfile.write('q3_out_wav_sig.wav', tes_sample, tex_recov)"
   ]
  },
  {
   "cell_type": "code",
   "execution_count": 23,
   "metadata": {
    "collapsed": true
   },
   "outputs": [],
   "source": [
    "def get_snr(X, X_recovered):\n",
    "    numerator = np.sum(np.square(X))\n",
    "    denominator = np.sum(np.square(X - X_recovered))\n",
    "    print \"numerator : \", numerator\n",
    "    print \"denominator : \", denominator\n",
    "    return 10 * math.log10(numerator / denominator)"
   ]
  },
  {
   "cell_type": "code",
   "execution_count": 29,
   "metadata": {},
   "outputs": [
    {
     "name": "stdout",
     "output_type": "stream",
     "text": [
      "numerator :  5.968e+12\n",
      "denominator :  3.60462922648e+14\n"
     ]
    },
    {
     "data": {
      "text/plain": [
       "-17.810317333299498"
      ]
     },
     "execution_count": 29,
     "metadata": {},
     "output_type": "execute_result"
    }
   ],
   "source": [
    "get_snr(tes_spec.real, tex_sig.real)"
   ]
  },
  {
   "cell_type": "code",
   "execution_count": null,
   "metadata": {
    "collapsed": true
   },
   "outputs": [],
   "source": []
  }
 ],
 "metadata": {
  "kernelspec": {
   "display_name": "Python (python2)",
   "language": "python",
   "name": "python2"
  },
  "language_info": {
   "codemirror_mode": {
    "name": "ipython",
    "version": 2
   },
   "file_extension": ".py",
   "mimetype": "text/x-python",
   "name": "python",
   "nbconvert_exporter": "python",
   "pygments_lexer": "ipython2",
   "version": "2.7.13"
  }
 },
 "nbformat": 4,
 "nbformat_minor": 2
}
