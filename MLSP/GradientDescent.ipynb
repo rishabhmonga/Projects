{
 "cells": [
  {
   "cell_type": "code",
   "execution_count": 29,
   "metadata": {
    "collapsed": false
   },
   "outputs": [],
   "source": [
    "from scipy.io import loadmat\n",
    "from scipy.misc import imread, toimage\n",
    "from PIL import Image\n",
    "import numpy as np\n",
    "import matplotlib.pyplot as plt\n",
    "import matplotlib\n",
    "import math\n",
    "from scipy.io import loadmat\n",
    "import numpy as np\n",
    "import matplotlib.pyplot as plt\n",
    "import seaborn as sns\n",
    "import PIL.Image\n",
    "from cStringIO import StringIO\n",
    "import IPython.display"
   ]
  },
  {
   "cell_type": "code",
   "execution_count": 2,
   "metadata": {
    "collapsed": true
   },
   "outputs": [],
   "source": [
    "def g_element_wise(x):\n",
    "    return 1 / (1 + np.exp(-x))"
   ]
  },
  {
   "cell_type": "code",
   "execution_count": 4,
   "metadata": {
    "collapsed": true
   },
   "outputs": [],
   "source": [
    "def g_fx(X):\n",
    "    g = np.vectorize(g_element_wise)\n",
    "    # applt on all elems\n",
    "    g_of_X = g(X)\n",
    "    return g_of_X.T"
   ]
  },
  {
   "cell_type": "code",
   "execution_count": 6,
   "metadata": {
    "collapsed": true
   },
   "outputs": [],
   "source": [
    "\n",
    "def g_dash_fx(x):\n",
    "    return g_fx(x) * (1 - g_fx(x))"
   ]
  },
  {
   "cell_type": "code",
   "execution_count": 8,
   "metadata": {
    "collapsed": true
   },
   "outputs": [],
   "source": [
    "def get_img_and_data_matrix(img, f):\n",
    "    img_small = img[:186, :186]\n",
    "    img_small = img_small.ravel()\n",
    "    data_matrix = np.random.random((225, 186 * 186))\n",
    "    for i in range(len(f)):\n",
    "        data_matrix[i] = img_small\n",
    "    temp = list()\n",
    "    temp.append(img_small)\n",
    "    img_small = np.array(temp)\n",
    "    return img_small, data_matrix"
   ]
  },
  {
   "cell_type": "code",
   "execution_count": 53,
   "metadata": {
    "collapsed": true
   },
   "outputs": [],
   "source": [
    "def gradient_desc(img, f, N):\n",
    "    s, data_matrix = get_img_and_data_matrix(img, f)\n",
    "\n",
    "    for i in range(N):\n",
    "        ft_X = np.dot(f.T, data_matrix)\n",
    "\n",
    "        g_vec = g_fx(ft_X)\n",
    "        # g_vec = g_vec.T\n",
    "\n",
    "        s_T_minus_g_vec = np.subtract(s.T, g_vec)\n",
    "\n",
    "        g_vec_dash = g_dash_fx(ft_X)\n",
    "\n",
    "        hadamard_product = np.multiply(s_T_minus_g_vec, g_vec_dash)\n",
    "        error = np.dot(data_matrix, hadamard_product)\n",
    "        error = error*(-2/186)\n",
    "        print np.mean(error)\n",
    "        f_new = np.add(f, error)\n",
    "        f = f_new\n",
    "        print 'iterations done : ', i\n",
    "\n",
    "    print 'data_matrix shape : ', data_matrix.shape\n",
    "    print 'f.T shape : ', f.T.shape\n",
    "    s_new = np.dot(f.T, data_matrix)\n",
    "    s_new = s_new.reshape((186, 186))\n",
    "    print s_new.shape\n",
    "    return s_new\n"
   ]
  },
  {
   "cell_type": "code",
   "execution_count": 54,
   "metadata": {
    "collapsed": true
   },
   "outputs": [],
   "source": [
    "test_image = imread('./sgx_test.jpg')"
   ]
  },
  {
   "cell_type": "code",
   "execution_count": 55,
   "metadata": {
    "collapsed": true
   },
   "outputs": [],
   "source": [
    "test_image_bw = test_image / 255.0"
   ]
  },
  {
   "cell_type": "code",
   "execution_count": 56,
   "metadata": {
    "collapsed": true
   },
   "outputs": [],
   "source": [
    "f = np.random.random((225, 1))"
   ]
  },
  {
   "cell_type": "code",
   "execution_count": 57,
   "metadata": {
    "collapsed": false,
    "scrolled": true
   },
   "outputs": [
    {
     "name": "stdout",
     "output_type": "stream",
     "text": [
      "0.482500244246\n",
      "iterations done :  0\n",
      "0.0849350754246\n",
      "iterations done :  1\n",
      "0.0695789528205\n",
      "iterations done :  2\n",
      "0.0598996450503\n",
      "iterations done :  3\n",
      "0.0531083531008\n",
      "iterations done :  4\n",
      "0.0480223874963\n",
      "iterations done :  5\n",
      "0.0440408652286\n",
      "iterations done :  6\n",
      "0.0408216298505\n",
      "iterations done :  7\n",
      "0.0381537230717\n",
      "iterations done :  8\n",
      "0.0358991712659\n",
      "iterations done :  9\n",
      "data_matrix shape :  (225L, 34596L)\n",
      "f.T shape :  (1L, 225L)\n",
      "(186L, 186L)\n"
     ]
    }
   ],
   "source": [
    "filtered_image = gradient_desc(test_image_bw, f, 10)"
   ]
  },
  {
   "cell_type": "code",
   "execution_count": 59,
   "metadata": {
    "collapsed": false
   },
   "outputs": [],
   "source": [
    "def showarray(a, fmt='png'):\n",
    "    a = np.uint8(a)\n",
    "    f = StringIO()\n",
    "    PIL.Image.fromarray(a).save(f, fmt)\n",
    "    IPython.display.display(IPython.display.Image(data=f.getvalue()))"
   ]
  },
  {
   "cell_type": "code",
   "execution_count": 60,
   "metadata": {
    "collapsed": false
   },
   "outputs": [
    {
     "data": {
      "image/png": "[encoded data removed]",
      "text/plain": [
       "<IPython.core.display.Image object>"
      ]
     },
     "metadata": {},
     "output_type": "display_data"
    }
   ],
   "source": [
    "showarray(filtered_image)"
   ]
  },
  {
   "cell_type": "code",
   "execution_count": null,
   "metadata": {
    "collapsed": true
   },
   "outputs": [],
   "source": []
  }
 ],
 "metadata": {
  "anaconda-cloud": {},
  "kernelspec": {
   "display_name": "Python [default]",
   "language": "python",
   "name": "python2"
  },
  "language_info": {
   "codemirror_mode": {
    "name": "ipython",
    "version": 2
   },
   "file_extension": ".py",
   "mimetype": "text/x-python",
   "name": "python",
   "nbconvert_exporter": "python",
   "pygments_lexer": "ipython2",
   "version": "2.7.12"
  }
 },
 "nbformat": 4,
 "nbformat_minor": 1
}
