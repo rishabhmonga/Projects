{
 "cells": [
  {
   "cell_type": "code",
   "execution_count": 1,
   "metadata": {
    "collapsed": true
   },
   "outputs": [],
   "source": [
    "import pandas as pd"
   ]
  },
  {
   "cell_type": "code",
   "execution_count": 2,
   "metadata": {
    "collapsed": true
   },
   "outputs": [],
   "source": [
    "df = pd.read_csv(\"monks_train.csv\")"
   ]
  },
  {
   "cell_type": "code",
   "execution_count": 4,
   "metadata": {
    "collapsed": true
   },
   "outputs": [],
   "source": [
    "df.columns = [\"class\", \"a1\", \"a2\", \"a3\", \"a4\", \"a5\", \"a6\", \"id\"]\n",
    "df2 = df.drop('id', 1)"
   ]
  },
  {
   "cell_type": "code",
   "execution_count": 6,
   "metadata": {
    "collapsed": true
   },
   "outputs": [],
   "source": [
    "data = df2.values.tolist()"
   ]
  },
  {
   "cell_type": "code",
   "execution_count": 22,
   "metadata": {
    "collapsed": false
   },
   "outputs": [],
   "source": [
    "attrib_idx = [i for i in range(7)]"
   ]
  },
  {
   "cell_type": "code",
   "execution_count": 27,
   "metadata": {
    "collapsed": true
   },
   "outputs": [],
   "source": [
    "def getvaluesforindex(data, attrib):\n",
    "    result = []\n",
    "    for row in data:\n",
    "        for i in range(len(row)):\n",
    "            if i == attrib and row[i] not in result:\n",
    "                result.append(row[i])\n",
    "    return result"
   ]
  },
  {
   "cell_type": "code",
   "execution_count": 28,
   "metadata": {
    "collapsed": true
   },
   "outputs": [],
   "source": [
    "def dataindexskeleton(data, attrib_indices):\n",
    "    skel = dict()\n",
    "    for attrib in attrib_indices:\n",
    "        skel[attrib] = getvaluesforindex(data, attrib)\n",
    "    return skel"
   ]
  },
  {
   "cell_type": "code",
   "execution_count": 30,
   "metadata": {
    "collapsed": false
   },
   "outputs": [
    {
     "data": {
      "text/plain": [
       "{0: [1, 0],\n",
       " 1: [1, 2, 3],\n",
       " 2: [1, 2, 3],\n",
       " 3: [1, 2],\n",
       " 4: [1, 3, 2],\n",
       " 5: [3, 2, 4, 1],\n",
       " 6: [1, 2]}"
      ]
     },
     "execution_count": 30,
     "metadata": {},
     "output_type": "execute_result"
    }
   ],
   "source": [
    "skel = dataindexskeleton(data, attrib_idx)\n",
    "skel"
   ]
  },
  {
   "cell_type": "code",
   "execution_count": 18,
   "metadata": {
    "collapsed": false
   },
   "outputs": [],
   "source": [
    "def classlabelcount(data):\n",
    "    result = {}\n",
    "    for row in data:\n",
    "        classlabel = row[0]\n",
    "        if classlabel not in result: \n",
    "            result[classlabel] = 0\n",
    "        result[classlabel] += 1\n",
    "    return result"
   ]
  },
  {
   "cell_type": "code",
   "execution_count": 19,
   "metadata": {
    "collapsed": false
   },
   "outputs": [
    {
     "data": {
      "text/plain": [
       "{0: 62, 1: 62}"
      ]
     },
     "execution_count": 19,
     "metadata": {},
     "output_type": "execute_result"
    }
   ],
   "source": [
    "classlabelcount(data)"
   ]
  },
  {
   "cell_type": "code",
   "execution_count": 31,
   "metadata": {
    "collapsed": true
   },
   "outputs": [],
   "source": [
    "def entropy(data):\n",
    "    from math import log\n",
    "    result = classlabelcount(data)\n",
    "    ent = 0.0\n",
    "    for r in result.keys():\n",
    "        p = float(result[r] / len(data))\n",
    "        ent -= p * (log(p, 2))\n",
    "    return ent"
   ]
  },
  {
   "cell_type": "code",
   "execution_count": 37,
   "metadata": {
    "collapsed": true
   },
   "outputs": [],
   "source": [
    "def split(data, attributeindex, attributevalues):\n",
    "    result = {}\n",
    "    for i in attributevalues:\n",
    "        result[i] = []\n",
    "    for val in attributevalues:\n",
    "        for row in data:\n",
    "            if row[attributeindex] == val:\n",
    "                result[val].append(row)\n",
    "    return result"
   ]
  },
  {
   "cell_type": "code",
   "execution_count": 40,
   "metadata": {
    "collapsed": true
   },
   "outputs": [
    {
     "data": {
      "text/plain": [
       "{1: [[1, 1, 1, 1, 1, 3, 1],\n",
       "  [1, 1, 1, 1, 1, 3, 2],\n",
       "  [1, 1, 1, 1, 3, 2, 1],\n",
       "  [1, 1, 1, 1, 3, 3, 2],\n",
       "  [1, 1, 1, 2, 1, 2, 1],\n",
       "  [1, 1, 1, 2, 1, 2, 2],\n",
       "  [1, 1, 1, 2, 2, 3, 1],\n",
       "  [1, 1, 1, 2, 2, 4, 1],\n",
       "  [1, 1, 1, 2, 3, 1, 2],\n",
       "  [1, 1, 2, 1, 1, 1, 2],\n",
       "  [0, 1, 2, 1, 1, 2, 1],\n",
       "  [0, 1, 2, 1, 1, 3, 1],\n",
       "  [0, 1, 2, 1, 1, 4, 2],\n",
       "  [1, 1, 2, 1, 2, 1, 1],\n",
       "  [0, 1, 2, 1, 2, 3, 1],\n",
       "  [0, 1, 2, 1, 2, 3, 2],\n",
       "  [0, 1, 2, 1, 2, 4, 2],\n",
       "  [0, 1, 2, 1, 3, 2, 1],\n",
       "  [0, 1, 2, 1, 3, 4, 2],\n",
       "  [0, 1, 2, 2, 1, 2, 2],\n",
       "  [0, 1, 2, 2, 2, 3, 2],\n",
       "  [0, 1, 2, 2, 2, 4, 1],\n",
       "  [0, 1, 2, 2, 2, 4, 2],\n",
       "  [0, 1, 2, 2, 3, 2, 2],\n",
       "  [0, 1, 2, 2, 3, 3, 1],\n",
       "  [0, 1, 2, 2, 3, 3, 2],\n",
       "  [0, 1, 3, 1, 1, 2, 1],\n",
       "  [0, 1, 3, 1, 1, 4, 1],\n",
       "  [0, 1, 3, 1, 2, 2, 1],\n",
       "  [0, 1, 3, 1, 2, 4, 1],\n",
       "  [1, 1, 3, 1, 3, 1, 2],\n",
       "  [0, 1, 3, 1, 3, 2, 2],\n",
       "  [0, 1, 3, 1, 3, 3, 1],\n",
       "  [0, 1, 3, 1, 3, 4, 1],\n",
       "  [0, 1, 3, 1, 3, 4, 2],\n",
       "  [0, 1, 3, 2, 1, 2, 2],\n",
       "  [1, 1, 3, 2, 2, 1, 2],\n",
       "  [0, 1, 3, 2, 2, 2, 2],\n",
       "  [0, 1, 3, 2, 2, 3, 2],\n",
       "  [0, 1, 3, 2, 2, 4, 1],\n",
       "  [0, 1, 3, 2, 2, 4, 2],\n",
       "  [1, 1, 3, 2, 3, 1, 1],\n",
       "  [0, 1, 3, 2, 3, 2, 1],\n",
       "  [0, 1, 3, 2, 3, 4, 1],\n",
       "  [0, 1, 3, 2, 3, 4, 2]],\n",
       " 2: [[0, 2, 1, 1, 1, 3, 1],\n",
       "  [0, 2, 1, 1, 1, 3, 2],\n",
       "  [1, 2, 1, 1, 2, 1, 1],\n",
       "  [1, 2, 1, 1, 2, 1, 2],\n",
       "  [0, 2, 1, 1, 2, 2, 2],\n",
       "  [0, 2, 1, 1, 2, 3, 1],\n",
       "  [0, 2, 1, 1, 2, 4, 1],\n",
       "  [0, 2, 1, 1, 2, 4, 2],\n",
       "  [0, 2, 1, 1, 3, 4, 1],\n",
       "  [0, 2, 1, 2, 1, 2, 2],\n",
       "  [0, 2, 1, 2, 1, 3, 1],\n",
       "  [0, 2, 1, 2, 1, 4, 2],\n",
       "  [0, 2, 1, 2, 2, 3, 1],\n",
       "  [0, 2, 1, 2, 2, 4, 2],\n",
       "  [0, 2, 1, 2, 3, 2, 2],\n",
       "  [0, 2, 1, 2, 3, 4, 1],\n",
       "  [1, 2, 2, 1, 1, 2, 1],\n",
       "  [1, 2, 2, 1, 1, 2, 2],\n",
       "  [1, 2, 2, 1, 1, 3, 1],\n",
       "  [1, 2, 2, 1, 2, 3, 2],\n",
       "  [1, 2, 2, 1, 3, 1, 1],\n",
       "  [1, 2, 2, 1, 3, 1, 2],\n",
       "  [1, 2, 2, 1, 3, 2, 2],\n",
       "  [1, 2, 2, 1, 3, 3, 2],\n",
       "  [1, 2, 2, 1, 3, 4, 2],\n",
       "  [1, 2, 2, 2, 1, 1, 1],\n",
       "  [1, 2, 2, 2, 1, 3, 2],\n",
       "  [1, 2, 2, 2, 1, 4, 1],\n",
       "  [1, 2, 2, 2, 1, 4, 2],\n",
       "  [1, 2, 2, 2, 2, 2, 1],\n",
       "  [1, 2, 2, 2, 3, 4, 1],\n",
       "  [1, 2, 3, 1, 1, 1, 1],\n",
       "  [1, 2, 3, 1, 2, 1, 1],\n",
       "  [0, 2, 3, 1, 2, 3, 1],\n",
       "  [1, 2, 3, 1, 3, 1, 2],\n",
       "  [0, 2, 3, 1, 3, 3, 1],\n",
       "  [0, 2, 3, 1, 3, 4, 2],\n",
       "  [0, 2, 3, 2, 1, 3, 2],\n",
       "  [1, 2, 3, 2, 2, 1, 1],\n",
       "  [1, 2, 3, 2, 2, 1, 2],\n",
       "  [0, 2, 3, 2, 2, 2, 1],\n",
       "  [0, 2, 3, 2, 3, 3, 2]],\n",
       " 3: [[1, 3, 1, 1, 1, 1, 1],\n",
       "  [1, 3, 1, 1, 1, 1, 2],\n",
       "  [1, 3, 1, 1, 2, 1, 1],\n",
       "  [0, 3, 1, 1, 2, 2, 2],\n",
       "  [0, 3, 1, 1, 3, 2, 2],\n",
       "  [1, 3, 1, 2, 1, 1, 1],\n",
       "  [0, 3, 1, 2, 1, 2, 2],\n",
       "  [0, 3, 1, 2, 2, 2, 2],\n",
       "  [0, 3, 1, 2, 2, 3, 2],\n",
       "  [0, 3, 1, 2, 3, 2, 2],\n",
       "  [1, 3, 2, 1, 1, 1, 1],\n",
       "  [0, 3, 2, 1, 1, 4, 2],\n",
       "  [1, 3, 2, 1, 2, 1, 2],\n",
       "  [0, 3, 2, 1, 2, 4, 2],\n",
       "  [1, 3, 2, 2, 1, 1, 1],\n",
       "  [1, 3, 2, 2, 1, 1, 2],\n",
       "  [0, 3, 2, 2, 1, 3, 2],\n",
       "  [1, 3, 2, 2, 3, 1, 1],\n",
       "  [0, 3, 2, 2, 3, 2, 1],\n",
       "  [0, 3, 2, 2, 3, 4, 1],\n",
       "  [1, 3, 3, 1, 1, 1, 1],\n",
       "  [1, 3, 3, 1, 1, 2, 1],\n",
       "  [1, 3, 3, 1, 1, 4, 2],\n",
       "  [1, 3, 3, 1, 2, 3, 2],\n",
       "  [1, 3, 3, 1, 2, 4, 2],\n",
       "  [1, 3, 3, 1, 3, 1, 2],\n",
       "  [1, 3, 3, 1, 3, 2, 1],\n",
       "  [1, 3, 3, 1, 3, 2, 2],\n",
       "  [1, 3, 3, 1, 3, 4, 2],\n",
       "  [1, 3, 3, 2, 1, 1, 1],\n",
       "  [1, 3, 3, 2, 1, 3, 2],\n",
       "  [1, 3, 3, 2, 1, 4, 1],\n",
       "  [1, 3, 3, 2, 1, 4, 2],\n",
       "  [1, 3, 3, 2, 3, 1, 2],\n",
       "  [1, 3, 3, 2, 3, 2, 2],\n",
       "  [1, 3, 3, 2, 3, 3, 2],\n",
       "  [1, 3, 3, 2, 3, 4, 2]]}"
      ]
     },
     "execution_count": 40,
     "metadata": {},
     "output_type": "execute_result"
    }
   ],
   "source": [
    "split(data, 1, skel.get(1))"
   ]
  },
  {
   "cell_type": "code",
   "execution_count": 47,
   "metadata": {
    "collapsed": true
   },
   "outputs": [],
   "source": [
    "def infomation_gain(data, idx):\n",
    "    current_ent = entropy(data)\n",
    "    p_ent_branches = 0.0\n",
    "    branches = split(data, idx, skel.get(idx))\n",
    "    for branch in branches.values():\n",
    "        p_ent_branches += float(len(branch))/len(data) * entropy(branch)\n",
    "    return (current_ent - p_ent_branches)"
   ]
  },
  {
   "cell_type": "code",
   "execution_count": 48,
   "metadata": {
    "collapsed": false
   },
   "outputs": [
    {
     "data": {
      "text/plain": [
       "0.07527255560831936"
      ]
     },
     "execution_count": 48,
     "metadata": {},
     "output_type": "execute_result"
    }
   ],
   "source": [
    "infomation_gain(data, 1)"
   ]
  },
  {
   "cell_type": "code",
   "execution_count": null,
   "metadata": {
    "collapsed": true
   },
   "outputs": [],
   "source": []
  }
 ],
 "metadata": {
  "kernelspec": {
   "display_name": "Python [Root]",
   "language": "python",
   "name": "Python [Root]"
  },
  "language_info": {
   "codemirror_mode": {
    "name": "ipython",
    "version": 3
   },
   "file_extension": ".py",
   "mimetype": "text/x-python",
   "name": "python",
   "nbconvert_exporter": "python",
   "pygments_lexer": "ipython3",
   "version": "3.5.2"
  }
 },
 "nbformat": 4,
 "nbformat_minor": 0
}
