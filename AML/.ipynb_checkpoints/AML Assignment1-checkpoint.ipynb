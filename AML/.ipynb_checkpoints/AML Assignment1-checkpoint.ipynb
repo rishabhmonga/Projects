{
 "cells": [
  {
   "cell_type": "code",
   "execution_count": 4,
   "metadata": {
    "collapsed": true,
    "nbpresent": {
     "id": "9118f132-79c7-4bb2-80d6-9618d2dd8eb5"
    }
   },
   "outputs": [],
   "source": [
    "%matplotlib inline"
   ]
  },
  {
   "cell_type": "code",
   "execution_count": 24,
   "metadata": {
    "collapsed": true
   },
   "outputs": [],
   "source": [
    "import csv"
   ]
  },
  {
   "cell_type": "code",
   "execution_count": 20,
   "metadata": {
    "collapsed": false,
    "nbpresent": {
     "id": "c205d973-fa47-4055-b422-2caf65237436"
    }
   },
   "outputs": [
    {
     "name": "stdout",
     "output_type": "stream",
     "text": [
      "0    3\n",
      "1    3\n",
      "2    2\n",
      "3    3\n",
      "4    2\n",
      "Name: a5, dtype: int64\n"
     ]
    }
   ],
   "source": [
    "\n",
    "import pandas as pd\n",
    "\n",
    "df = pd.read_csv(\"monks_train.txt\", delimiter=' ', header=None)\n",
    "df.drop(0, axis=1, inplace=True)\n",
    "df.columns = [\"class\", \"a1\", \"a2\", \"a3\", \"a4\", \"a5\", \"a6\", \"id\"]\n",
    "print(df['a5'].head())"
   ]
  },
  {
   "cell_type": "code",
   "execution_count": 25,
   "metadata": {
    "collapsed": true
   },
   "outputs": [],
   "source": [
    "df.to_csv(\"monks_train.csv\", index=False, quoting=csv.QUOTE_ALL)"
   ]
  },
  {
   "cell_type": "code",
   "execution_count": 6,
   "metadata": {
    "collapsed": false,
    "nbpresent": {
     "id": "d2d923fc-9620-4374-8629-33118528c5e7"
    }
   },
   "outputs": [
    {
     "data": {
      "text/html": [
       "<div>\n",
       "<table border=\"1\" class=\"dataframe\">\n",
       "  <thead>\n",
       "    <tr style=\"text-align: right;\">\n",
       "      <th></th>\n",
       "      <th>a1</th>\n",
       "      <th>a5</th>\n",
       "    </tr>\n",
       "  </thead>\n",
       "  <tbody>\n",
       "    <tr>\n",
       "      <th>0</th>\n",
       "      <td>1</td>\n",
       "      <td>3</td>\n",
       "    </tr>\n",
       "    <tr>\n",
       "      <th>1</th>\n",
       "      <td>1</td>\n",
       "      <td>3</td>\n",
       "    </tr>\n",
       "    <tr>\n",
       "      <th>2</th>\n",
       "      <td>1</td>\n",
       "      <td>2</td>\n",
       "    </tr>\n",
       "    <tr>\n",
       "      <th>3</th>\n",
       "      <td>1</td>\n",
       "      <td>3</td>\n",
       "    </tr>\n",
       "    <tr>\n",
       "      <th>4</th>\n",
       "      <td>1</td>\n",
       "      <td>2</td>\n",
       "    </tr>\n",
       "  </tbody>\n",
       "</table>\n",
       "</div>"
      ],
      "text/plain": [
       "   a1  a5\n",
       "0   1   3\n",
       "1   1   3\n",
       "2   1   2\n",
       "3   1   3\n",
       "4   1   2"
      ]
     },
     "execution_count": 6,
     "metadata": {},
     "output_type": "execute_result"
    }
   ],
   "source": [
    "df[['a1', 'a5']].head()"
   ]
  },
  {
   "cell_type": "code",
   "execution_count": 8,
   "metadata": {
    "collapsed": false,
    "nbpresent": {
     "id": "0a79d77e-8fc6-43d7-abaf-46ba00ccdddc"
    }
   },
   "outputs": [
    {
     "data": {
      "text/plain": [
       "array([[<matplotlib.axes._subplots.AxesSubplot object at 0x0000028C7BA67FD0>,\n",
       "        <matplotlib.axes._subplots.AxesSubplot object at 0x0000028C7C41ECC0>,\n",
       "        <matplotlib.axes._subplots.AxesSubplot object at 0x0000028C7C69BEF0>],\n",
       "       [<matplotlib.axes._subplots.AxesSubplot object at 0x0000028C7C6D7D68>,\n",
       "        <matplotlib.axes._subplots.AxesSubplot object at 0x0000028C7C722DA0>,\n",
       "        <matplotlib.axes._subplots.AxesSubplot object at 0x0000028C7C769588>],\n",
       "       [<matplotlib.axes._subplots.AxesSubplot object at 0x0000028C7C7B0C88>,\n",
       "        <matplotlib.axes._subplots.AxesSubplot object at 0x0000028C7C7F33C8>,\n",
       "        <matplotlib.axes._subplots.AxesSubplot object at 0x0000028C7C83B5F8>]], dtype=object)"
      ]
     },
     "execution_count": 8,
     "metadata": {},
     "output_type": "execute_result"
    },
    {
     "data": {
      "image/png": "[encoded data removed]",
      "text/plain": [
       "<matplotlib.figure.Figure at 0x28c79afa198>"
      ]
     },
     "metadata": {},
     "output_type": "display_data"
    }
   ],
   "source": [
    "df.hist()"
   ]
  },
  {
   "cell_type": "code",
   "execution_count": 12,
   "metadata": {
    "collapsed": false,
    "nbpresent": {
     "id": "33dadd55-1565-4dec-9f73-069af39dc072"
    }
   },
   "outputs": [
    {
     "data": {
      "text/plain": [
       "array([[<matplotlib.axes._subplots.AxesSubplot object at 0x0000028C7CFA5278>,\n",
       "        <matplotlib.axes._subplots.AxesSubplot object at 0x0000028C7D0ED128>,\n",
       "        <matplotlib.axes._subplots.AxesSubplot object at 0x0000028C7D135358>],\n",
       "       [<matplotlib.axes._subplots.AxesSubplot object at 0x0000028C7D1B1A58>,\n",
       "        <matplotlib.axes._subplots.AxesSubplot object at 0x0000028C7D1F9B70>,\n",
       "        <matplotlib.axes._subplots.AxesSubplot object at 0x0000028C7D23E278>],\n",
       "       [<matplotlib.axes._subplots.AxesSubplot object at 0x0000028C7D287978>,\n",
       "        <matplotlib.axes._subplots.AxesSubplot object at 0x0000028C7D2C40B8>,\n",
       "        <matplotlib.axes._subplots.AxesSubplot object at 0x0000028C7D2EA240>]], dtype=object)"
      ]
     },
     "execution_count": 12,
     "metadata": {},
     "output_type": "execute_result"
    },
    {
     "data": {
      "image/png": "[encoded data removed]",
      "text/plain": [
       "<matplotlib.figure.Figure at 0x28c7cfa2f60>"
      ]
     },
     "metadata": {},
     "output_type": "display_data"
    }
   ],
   "source": [
    "df[df['class']==1].hist()"
   ]
  },
  {
   "cell_type": "code",
   "execution_count": 14,
   "metadata": {
    "collapsed": false,
    "nbpresent": {
     "id": "a9e2cb74-75e6-4250-b91e-a1212dcce813"
    }
   },
   "outputs": [
    {
     "data": {
      "text/html": [
       "<div>\n",
       "<table border=\"1\" class=\"dataframe\">\n",
       "  <thead>\n",
       "    <tr style=\"text-align: right;\">\n",
       "      <th></th>\n",
       "      <th>class</th>\n",
       "      <th>a1</th>\n",
       "      <th>a3</th>\n",
       "    </tr>\n",
       "  </thead>\n",
       "  <tbody>\n",
       "    <tr>\n",
       "      <th>10</th>\n",
       "      <td>0</td>\n",
       "      <td>1</td>\n",
       "      <td>1</td>\n",
       "    </tr>\n",
       "    <tr>\n",
       "      <th>11</th>\n",
       "      <td>0</td>\n",
       "      <td>1</td>\n",
       "      <td>1</td>\n",
       "    </tr>\n",
       "    <tr>\n",
       "      <th>12</th>\n",
       "      <td>0</td>\n",
       "      <td>1</td>\n",
       "      <td>1</td>\n",
       "    </tr>\n",
       "    <tr>\n",
       "      <th>14</th>\n",
       "      <td>0</td>\n",
       "      <td>1</td>\n",
       "      <td>1</td>\n",
       "    </tr>\n",
       "    <tr>\n",
       "      <th>15</th>\n",
       "      <td>0</td>\n",
       "      <td>1</td>\n",
       "      <td>1</td>\n",
       "    </tr>\n",
       "  </tbody>\n",
       "</table>\n",
       "</div>"
      ],
      "text/plain": [
       "    class  a1  a3\n",
       "10      0   1   1\n",
       "11      0   1   1\n",
       "12      0   1   1\n",
       "14      0   1   1\n",
       "15      0   1   1"
      ]
     },
     "execution_count": 14,
     "metadata": {},
     "output_type": "execute_result"
    }
   ],
   "source": [
    "df[df['class']==0][['class', 'a1', 'a3']].head()"
   ]
  },
  {
   "cell_type": "code",
   "execution_count": 15,
   "metadata": {
    "collapsed": false,
    "nbpresent": {
     "id": "cecced96-8642-49fd-9e32-3b8c6306fc9e"
    }
   },
   "outputs": [
    {
     "data": {
      "text/html": [
       "<div>\n",
       "<table border=\"1\" class=\"dataframe\">\n",
       "  <thead>\n",
       "    <tr style=\"text-align: right;\">\n",
       "      <th></th>\n",
       "      <th>a1</th>\n",
       "      <th>a2</th>\n",
       "      <th>a3</th>\n",
       "      <th>a4</th>\n",
       "      <th>a5</th>\n",
       "      <th>a6</th>\n",
       "      <th>id</th>\n",
       "    </tr>\n",
       "    <tr>\n",
       "      <th>class</th>\n",
       "      <th></th>\n",
       "      <th></th>\n",
       "      <th></th>\n",
       "      <th></th>\n",
       "      <th></th>\n",
       "      <th></th>\n",
       "      <th></th>\n",
       "    </tr>\n",
       "  </thead>\n",
       "  <tbody>\n",
       "    <tr>\n",
       "      <th>0</th>\n",
       "      <td>62</td>\n",
       "      <td>62</td>\n",
       "      <td>62</td>\n",
       "      <td>62</td>\n",
       "      <td>62</td>\n",
       "      <td>62</td>\n",
       "      <td>62</td>\n",
       "    </tr>\n",
       "    <tr>\n",
       "      <th>1</th>\n",
       "      <td>62</td>\n",
       "      <td>62</td>\n",
       "      <td>62</td>\n",
       "      <td>62</td>\n",
       "      <td>62</td>\n",
       "      <td>62</td>\n",
       "      <td>62</td>\n",
       "    </tr>\n",
       "  </tbody>\n",
       "</table>\n",
       "</div>"
      ],
      "text/plain": [
       "       a1  a2  a3  a4  a5  a6  id\n",
       "class                            \n",
       "0      62  62  62  62  62  62  62\n",
       "1      62  62  62  62  62  62  62"
      ]
     },
     "execution_count": 15,
     "metadata": {},
     "output_type": "execute_result"
    }
   ],
   "source": [
    "df.groupby('class').count()"
   ]
  },
  {
   "cell_type": "code",
   "execution_count": 16,
   "metadata": {
    "collapsed": false,
    "nbpresent": {
     "id": "a33d30b1-19df-4979-b4ff-f45a99ea7918"
    }
   },
   "outputs": [
    {
     "data": {
      "text/html": [
       "<div>\n",
       "<table border=\"1\" class=\"dataframe\">\n",
       "  <thead>\n",
       "    <tr style=\"text-align: right;\">\n",
       "      <th></th>\n",
       "      <th></th>\n",
       "      <th>a2</th>\n",
       "      <th>a3</th>\n",
       "      <th>a4</th>\n",
       "      <th>a5</th>\n",
       "      <th>a6</th>\n",
       "      <th>id</th>\n",
       "    </tr>\n",
       "    <tr>\n",
       "      <th>class</th>\n",
       "      <th>a1</th>\n",
       "      <th></th>\n",
       "      <th></th>\n",
       "      <th></th>\n",
       "      <th></th>\n",
       "      <th></th>\n",
       "      <th></th>\n",
       "    </tr>\n",
       "  </thead>\n",
       "  <tbody>\n",
       "    <tr>\n",
       "      <th rowspan=\"3\" valign=\"top\">0</th>\n",
       "      <th>1</th>\n",
       "      <td>31</td>\n",
       "      <td>31</td>\n",
       "      <td>31</td>\n",
       "      <td>31</td>\n",
       "      <td>31</td>\n",
       "      <td>31</td>\n",
       "    </tr>\n",
       "    <tr>\n",
       "      <th>2</th>\n",
       "      <td>20</td>\n",
       "      <td>20</td>\n",
       "      <td>20</td>\n",
       "      <td>20</td>\n",
       "      <td>20</td>\n",
       "      <td>20</td>\n",
       "    </tr>\n",
       "    <tr>\n",
       "      <th>3</th>\n",
       "      <td>11</td>\n",
       "      <td>11</td>\n",
       "      <td>11</td>\n",
       "      <td>11</td>\n",
       "      <td>11</td>\n",
       "      <td>11</td>\n",
       "    </tr>\n",
       "    <tr>\n",
       "      <th rowspan=\"3\" valign=\"top\">1</th>\n",
       "      <th>1</th>\n",
       "      <td>14</td>\n",
       "      <td>14</td>\n",
       "      <td>14</td>\n",
       "      <td>14</td>\n",
       "      <td>14</td>\n",
       "      <td>14</td>\n",
       "    </tr>\n",
       "    <tr>\n",
       "      <th>2</th>\n",
       "      <td>22</td>\n",
       "      <td>22</td>\n",
       "      <td>22</td>\n",
       "      <td>22</td>\n",
       "      <td>22</td>\n",
       "      <td>22</td>\n",
       "    </tr>\n",
       "    <tr>\n",
       "      <th>3</th>\n",
       "      <td>26</td>\n",
       "      <td>26</td>\n",
       "      <td>26</td>\n",
       "      <td>26</td>\n",
       "      <td>26</td>\n",
       "      <td>26</td>\n",
       "    </tr>\n",
       "  </tbody>\n",
       "</table>\n",
       "</div>"
      ],
      "text/plain": [
       "          a2  a3  a4  a5  a6  id\n",
       "class a1                        \n",
       "0     1   31  31  31  31  31  31\n",
       "      2   20  20  20  20  20  20\n",
       "      3   11  11  11  11  11  11\n",
       "1     1   14  14  14  14  14  14\n",
       "      2   22  22  22  22  22  22\n",
       "      3   26  26  26  26  26  26"
      ]
     },
     "execution_count": 16,
     "metadata": {},
     "output_type": "execute_result"
    }
   ],
   "source": [
    "df.groupby(['class', 'a1']).count()"
   ]
  },
  {
   "cell_type": "code",
   "execution_count": 19,
   "metadata": {
    "collapsed": false,
    "nbpresent": {
     "id": "9a79ac6c-a136-4d47-a296-9609ef70d182"
    }
   },
   "outputs": [],
   "source": [
    "a1 = df['a1'].tolist()"
   ]
  },
  {
   "cell_type": "code",
   "execution_count": null,
   "metadata": {
    "collapsed": true
   },
   "outputs": [],
   "source": []
  }
 ],
 "metadata": {
  "kernelspec": {
   "display_name": "Python [Root]",
   "language": "python",
   "name": "Python [Root]"
  },
  "language_info": {
   "codemirror_mode": {
    "name": "ipython",
    "version": 3
   },
   "file_extension": ".py",
   "mimetype": "text/x-python",
   "name": "python",
   "nbconvert_exporter": "python",
   "pygments_lexer": "ipython3",
   "version": "3.5.2"
  },
  "nbpresent": {
   "slides": {
    "09f8e496-3bce-4a63-830a-1cc42e36d593": {
     "id": "09f8e496-3bce-4a63-830a-1cc42e36d593",
     "prev": null,
     "regions": {
      "775a707c-f5a5-46cc-8f39-821591f49e46": {
       "attrs": {
        "height": 0.8,
        "width": 0.8,
        "x": 0.1,
        "y": 0.1
       },
       "content": {
        "cell": "9118f132-79c7-4bb2-80d6-9618d2dd8eb5",
        "part": "whole"
       },
       "id": "775a707c-f5a5-46cc-8f39-821591f49e46"
      }
     }
    },
    "4b2d73ac-c671-4104-a218-66bc10ea38b9": {
     "id": "4b2d73ac-c671-4104-a218-66bc10ea38b9",
     "prev": "df9b9cbf-abe7-42a0-8e45-db17d49cafa5",
     "regions": {
      "6867a4f6-7c1a-4509-9a06-c1190282de51": {
       "attrs": {
        "height": 0.8,
        "width": 0.8,
        "x": 0.1,
        "y": 0.1
       },
       "content": {
        "cell": "cecced96-8642-49fd-9e32-3b8c6306fc9e",
        "part": "whole"
       },
       "id": "6867a4f6-7c1a-4509-9a06-c1190282de51"
      }
     }
    },
    "7d793b94-d559-47fc-bbba-bad2bb0fc3e8": {
     "id": "7d793b94-d559-47fc-bbba-bad2bb0fc3e8",
     "prev": "4b2d73ac-c671-4104-a218-66bc10ea38b9",
     "regions": {
      "e205fedf-c901-48fc-b74d-f34acd4e1585": {
       "attrs": {
        "height": 0.8,
        "width": 0.8,
        "x": 0.1,
        "y": 0.1
       },
       "content": {
        "cell": "a33d30b1-19df-4979-b4ff-f45a99ea7918",
        "part": "whole"
       },
       "id": "e205fedf-c901-48fc-b74d-f34acd4e1585"
      }
     }
    },
    "88ed1a23-c52e-49a0-a2af-e47db70c6681": {
     "id": "88ed1a23-c52e-49a0-a2af-e47db70c6681",
     "prev": "b02b4396-a1ce-48ba-8618-c67e451319c5",
     "regions": {
      "4685f8d6-b2bf-436d-af93-7acb0ad13400": {
       "attrs": {
        "height": 0.8,
        "width": 0.8,
        "x": 0.1,
        "y": 0.1
       },
       "content": {
        "cell": "0a79d77e-8fc6-43d7-abaf-46ba00ccdddc",
        "part": "whole"
       },
       "id": "4685f8d6-b2bf-436d-af93-7acb0ad13400"
      }
     }
    },
    "a5254f83-7fe8-4b8a-be83-375497018857": {
     "id": "a5254f83-7fe8-4b8a-be83-375497018857",
     "prev": "09f8e496-3bce-4a63-830a-1cc42e36d593",
     "regions": {
      "ce62babc-a850-425a-bd04-e610e314f515": {
       "attrs": {
        "height": 0.8,
        "width": 0.8,
        "x": 0.13,
        "y": 0.1
       },
       "content": {
        "cell": "c205d973-fa47-4055-b422-2caf65237436",
        "part": "whole"
       },
       "id": "ce62babc-a850-425a-bd04-e610e314f515"
      }
     }
    },
    "b02b4396-a1ce-48ba-8618-c67e451319c5": {
     "id": "b02b4396-a1ce-48ba-8618-c67e451319c5",
     "prev": "a5254f83-7fe8-4b8a-be83-375497018857",
     "regions": {
      "6d7eb029-61a2-448b-a20a-5226c5ea2836": {
       "attrs": {
        "height": 0.8,
        "width": 0.8,
        "x": 0.1,
        "y": 0.1
       },
       "content": {
        "cell": "d2d923fc-9620-4374-8629-33118528c5e7",
        "part": "whole"
       },
       "id": "6d7eb029-61a2-448b-a20a-5226c5ea2836"
      }
     }
    },
    "cdee1185-fc5d-4853-b635-657508d3fca8": {
     "id": "cdee1185-fc5d-4853-b635-657508d3fca8",
     "prev": "88ed1a23-c52e-49a0-a2af-e47db70c6681",
     "regions": {
      "0806fe84-ab32-478d-9f3e-2a950c16bffd": {
       "attrs": {
        "height": 0.8,
        "width": 0.8,
        "x": 0.1,
        "y": 0.1
       },
       "content": {
        "cell": "33dadd55-1565-4dec-9f73-069af39dc072",
        "part": "whole"
       },
       "id": "0806fe84-ab32-478d-9f3e-2a950c16bffd"
      }
     }
    },
    "df9b9cbf-abe7-42a0-8e45-db17d49cafa5": {
     "id": "df9b9cbf-abe7-42a0-8e45-db17d49cafa5",
     "prev": "cdee1185-fc5d-4853-b635-657508d3fca8",
     "regions": {
      "b080b82f-99dd-444c-9d88-7be650fedce1": {
       "attrs": {
        "height": 0.8,
        "width": 0.8,
        "x": 0.1,
        "y": 0.1
       },
       "content": {
        "cell": "a9e2cb74-75e6-4250-b91e-a1212dcce813",
        "part": "whole"
       },
       "id": "b080b82f-99dd-444c-9d88-7be650fedce1"
      }
     }
    },
    "f3ed41d8-3ef2-4b2f-be54-9dfe9014ea1b": {
     "id": "f3ed41d8-3ef2-4b2f-be54-9dfe9014ea1b",
     "prev": "7d793b94-d559-47fc-bbba-bad2bb0fc3e8",
     "regions": {
      "fad6be4f-12e5-434b-8d41-7a08f5b5a9ab": {
       "attrs": {
        "height": 0.8,
        "width": 0.8,
        "x": 0.1,
        "y": 0.1
       },
       "content": {
        "cell": "9a79ac6c-a136-4d47-a296-9609ef70d182",
        "part": "whole"
       },
       "id": "fad6be4f-12e5-434b-8d41-7a08f5b5a9ab"
      }
     }
    }
   },
   "themes": {}
  }
 },
 "nbformat": 4,
 "nbformat_minor": 0
}
